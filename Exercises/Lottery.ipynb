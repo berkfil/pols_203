{
 "cells": [
  {
   "cell_type": "markdown",
   "metadata": {},
   "source": [
    "# POLS 203 Fifth Discussion Session\n",
    "## Exercise Question\n",
    "November 26, 2020"
   ]
  },
  {
   "cell_type": "markdown",
   "metadata": {},
   "source": [
    "### LOTTERY"
   ]
  },
  {
   "cell_type": "markdown",
   "metadata": {},
   "source": [
    "You wanted to try your luck and bought a ticket for New Year’s Lottery. The price\n",
    "of a full ticket is 100 TL and 37 million tickets are expected to be sold. The great\n",
    "prize is 80 million TL and only 1 ticket wins this. Secondary prize is also given to\n",
    "only one ticket and it is 8 million TL. Another prize is 1 million TL and it is given\n",
    "to 8 tickets. There’s another prize of 100,000 TL for 30 tickets, and a prize of 10,000\n",
    "for 100 tickets. Consider all tickets are full tickets and there are no other prices such\n",
    "as payback prize (amorti)."
   ]
  },
  {
   "cell_type": "markdown",
   "metadata": {},
   "source": [
    "1. Create a vector called **prizes** and assign the following values: 80000000, 8000000, 1000000, 100000, 10000."
   ]
  },
  {
   "cell_type": "code",
   "execution_count": null,
   "metadata": {},
   "outputs": [],
   "source": []
  },
  {
   "cell_type": "markdown",
   "metadata": {},
   "source": [
    "2. Create another vector called **probs** and assign the respective probabilities of winning prizes."
   ]
  },
  {
   "cell_type": "code",
   "execution_count": null,
   "metadata": {},
   "outputs": [],
   "source": []
  },
  {
   "cell_type": "markdown",
   "metadata": {},
   "source": [
    "3. Merge **prizes** and **probs** into a data frame called **lottery**"
   ]
  },
  {
   "cell_type": "code",
   "execution_count": null,
   "metadata": {},
   "outputs": [],
   "source": []
  },
  {
   "cell_type": "markdown",
   "metadata": {},
   "source": [
    "4. Add a new column called **expected** to the **lottery** data frame."
   ]
  },
  {
   "cell_type": "code",
   "execution_count": null,
   "metadata": {},
   "outputs": [],
   "source": []
  },
  {
   "cell_type": "markdown",
   "metadata": {},
   "source": [
    "5. Calculate your expected income from buying a ticket. Does it really worth it?"
   ]
  },
  {
   "cell_type": "code",
   "execution_count": null,
   "metadata": {},
   "outputs": [],
   "source": []
  }
 ],
 "metadata": {
  "kernelspec": {
   "display_name": "R",
   "language": "R",
   "name": "ir"
  },
  "language_info": {
   "codemirror_mode": "r",
   "file_extension": ".r",
   "mimetype": "text/x-r-source",
   "name": "R",
   "pygments_lexer": "r",
   "version": "3.6.1"
  }
 },
 "nbformat": 4,
 "nbformat_minor": 4
}
