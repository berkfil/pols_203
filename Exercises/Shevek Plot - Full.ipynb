{
 "cells": [
  {
   "cell_type": "markdown",
   "metadata": {},
   "source": [
    "# POLS 203 Fifth Discussion Session\n",
    "## Exercise Question\n",
    "November 26, 2020"
   ]
  },
  {
   "cell_type": "markdown",
   "metadata": {},
   "source": [
    "### SHEVEK THE PHYSICIST"
   ]
  },
  {
   "cell_type": "markdown",
   "metadata": {},
   "source": [
    "A physicist from Urras planet, Shevek decides to visit planet Anarres to pursue his studies on nuclear matter. In this planet, there are computers with R, but the properties of radium and some mathematical expressions are unknown. Therefore, Shevek needs to calculate radioactive decay of radium using his mathematical knowledge and R programming.\n",
    "\n",
    "The formula for half-life of a radioactive matter is as follows: \\begin{align*}\n",
    "N={N}_{0}{e}^{-\\lambda t}\n",
    "\\end{align*}\n",
    "\n",
    "where $N$ is the remaining matter, $ N_0 $ is the initial number of the matter, $e$ is the Euler number, $\\lambda$ is the decay rate, and $t$ is the time period. "
   ]
  },
  {
   "cell_type": "markdown",
   "metadata": {},
   "source": [
    "1. Euler number is not discovered in Anarres. So, you have to define $e$ with a variable called **euler** with a value of 2.718 assigned. Decay rate of radium, $\\lambda$, should be assigned to **lambda** with a value of 0.75. Finally, Shevek has 300 grams of radium initially, so $N_0$ should be assigned to a variable called **initial_matter**.\n",
    "~~~\n",
    "    > euler    \n",
    "    [1] 2.718\n",
    "    \n",
    "    > lambda    \n",
    "    [1] 0.75\n",
    "    \n",
    "    > initial_matter    \n",
    "    [1] 300\n",
    "~~~"
   ]
  },
  {
   "cell_type": "code",
   "execution_count": null,
   "metadata": {},
   "outputs": [],
   "source": [
    "#1 assigning the required variables\n",
    "euler <- 2.718\n",
    "lambda <- 0.75\n",
    "initial_matter <- 300\n",
    "euler\n",
    "lambda\n",
    "initial_matter"
   ]
  },
  {
   "cell_type": "markdown",
   "metadata": {},
   "source": [
    "2. Shevek wants to observe radium for 12 days. Create a vector called **days** to show the days. Remember to add first day, which is shown with 0.\n",
    "    \n",
    "    ~~~\n",
    "    > days\n",
    "    [1] 0  1  2  3  4  5  6  7  8  9 10 11 12\n",
    "    ~~~\n",
    "\n",
    "    **Hint**: You can use `seq()` function or `:` operator."
   ]
  },
  {
   "cell_type": "code",
   "execution_count": null,
   "metadata": {},
   "outputs": [],
   "source": [
    "#2 assigning the days\n",
    "days <- 0:12\n",
    "days"
   ]
  },
  {
   "cell_type": "markdown",
   "metadata": {},
   "source": [
    "3. Now, R knows every variable that we need. We can now calculate our remaining matter after 30 days using the formula. Create a vector called **remaining_matter** and assign the above formula ${N}_{0}{e}^{-\\lambda t}$ to it.\n",
    "\n",
    "    ~~~\n",
    "    > remaining_matter\n",
    "    \n",
    "     [1] 300.00000000 141.72098607  66.94945964  31.62714479  14.94076716\n",
    "     [6]   7.05806751   3.33425429   1.57511269   0.74408841   0.35150981\n",
    "    [11]   0.16605439   0.07844464   0.03705751\n",
    "    ~~~\n",
    "    \n",
    "    **Hint**: For time period $t$, you can use **days** vector."
   ]
  },
  {
   "cell_type": "code",
   "execution_count": null,
   "metadata": {},
   "outputs": [],
   "source": [
    "#3 calculating the remaining matter vector\n",
    "remaining_matter <- initial_matter*euler^(-lambda*days)\n",
    "remaining_matter"
   ]
  },
  {
   "attachments": {
    "image.png": {
     "image/png": "[encoded data removed]"
    }
   },
   "cell_type": "markdown",
   "metadata": {},
   "source": [
    "4. Create a line plot with **days** on the X-axis and **remaining_matter** on the Y-axis. Axes should be labeled as *Days* for X-axis and *Remaining Matter* for Y-axis. Color of the line should be red and the plot should be titled *Radium Decay*.\n",
    "![image.png](attachment:image.png)"
   ]
  },
  {
   "cell_type": "code",
   "execution_count": null,
   "metadata": {},
   "outputs": [],
   "source": [
    "#4 plot the decay of radium\n",
    "plot(remaining_matter, type = \"l\", col = \"red\", xlab = \"Days\", ylab = \"Remaning Matter\", main = \"Radium Decay\")"
   ]
  }
 ],
 "metadata": {
  "kernelspec": {
   "display_name": "R",
   "language": "R",
   "name": "ir"
  },
  "language_info": {
   "codemirror_mode": "r",
   "file_extension": ".r",
   "mimetype": "text/x-r-source",
   "name": "R",
   "pygments_lexer": "r",
   "version": "3.6.1"
  }
 },
 "nbformat": 4,
 "nbformat_minor": 4
}
