{
 "cells": [
  {
   "cell_type": "markdown",
   "metadata": {},
   "source": [
    "# POLS 203 Fifth Discussion Session\n",
    "## Exercise Question\n",
    "November 26, 2020"
   ]
  },
  {
   "cell_type": "markdown",
   "metadata": {},
   "source": [
    "### LOTTERY"
   ]
  },
  {
   "cell_type": "markdown",
   "metadata": {},
   "source": [
    "You wanted to try your luck and bought a ticket for New Year’s Lottery. The price\n",
    "of a full ticket is 100 TL and 37 million tickets are expected to be sold. The great\n",
    "prize is 80 million TL and only 1 ticket wins this. Secondary prize is also given to\n",
    "only one ticket and it is 8 million TL. Another prize is 1 million TL and it is given\n",
    "to 8 tickets. There’s another prize of 100,000 TL for 30 tickets, and a prize of 10,000\n",
    "for 100 tickets. Consider all tickets are full tickets and there are no other prices such\n",
    "as payback prize (amorti)."
   ]
  },
  {
   "cell_type": "markdown",
   "metadata": {},
   "source": [
    "1. Create a vector called **prizes** and assign the following values: 80000000, 8000000, 1000000, 100000, 10000."
   ]
  },
  {
   "cell_type": "code",
   "execution_count": 1,
   "metadata": {},
   "outputs": [
    {
     "data": {
      "text/html": [
       "<ol class=list-inline>\n",
       "\t<li>8e+07</li>\n",
       "\t<li>8e+06</li>\n",
       "\t<li>1e+06</li>\n",
       "\t<li>1e+05</li>\n",
       "\t<li>10000</li>\n",
       "</ol>\n"
      ],
      "text/latex": [
       "\\begin{enumerate*}\n",
       "\\item 8e+07\n",
       "\\item 8e+06\n",
       "\\item 1e+06\n",
       "\\item 1e+05\n",
       "\\item 10000\n",
       "\\end{enumerate*}\n"
      ],
      "text/markdown": [
       "1. 8e+07\n",
       "2. 8e+06\n",
       "3. 1e+06\n",
       "4. 1e+05\n",
       "5. 10000\n",
       "\n",
       "\n"
      ],
      "text/plain": [
       "[1] 8e+07 8e+06 1e+06 1e+05 1e+04"
      ]
     },
     "metadata": {},
     "output_type": "display_data"
    }
   ],
   "source": [
    "prizes <- c(80000000, 8000000, 1000000, 100000, 10000)\n",
    "prizes"
   ]
  },
  {
   "cell_type": "markdown",
   "metadata": {},
   "source": [
    "2. Create another vector called **probs** and assign the respective probabilities of winning prizes."
   ]
  },
  {
   "cell_type": "code",
   "execution_count": 3,
   "metadata": {},
   "outputs": [
    {
     "data": {
      "text/html": [
       "<ol class=list-inline>\n",
       "\t<li>2.7027027027027e-08</li>\n",
       "\t<li>2.7027027027027e-08</li>\n",
       "\t<li>2.16216216216216e-07</li>\n",
       "\t<li>8.10810810810811e-07</li>\n",
       "\t<li>2.7027027027027e-06</li>\n",
       "</ol>\n"
      ],
      "text/latex": [
       "\\begin{enumerate*}\n",
       "\\item 2.7027027027027e-08\n",
       "\\item 2.7027027027027e-08\n",
       "\\item 2.16216216216216e-07\n",
       "\\item 8.10810810810811e-07\n",
       "\\item 2.7027027027027e-06\n",
       "\\end{enumerate*}\n"
      ],
      "text/markdown": [
       "1. 2.7027027027027e-08\n",
       "2. 2.7027027027027e-08\n",
       "3. 2.16216216216216e-07\n",
       "4. 8.10810810810811e-07\n",
       "5. 2.7027027027027e-06\n",
       "\n",
       "\n"
      ],
      "text/plain": [
       "[1] 2.702703e-08 2.702703e-08 2.162162e-07 8.108108e-07 2.702703e-06"
      ]
     },
     "metadata": {},
     "output_type": "display_data"
    }
   ],
   "source": [
    "probs<- c(1, 1, 8, 30, 100)\n",
    "probs <- probs/37000000\n",
    "probs"
   ]
  },
  {
   "cell_type": "markdown",
   "metadata": {},
   "source": [
    "3. Merge **prizes** and **probs** into a data frame called **lottery**"
   ]
  },
  {
   "cell_type": "code",
   "execution_count": 4,
   "metadata": {},
   "outputs": [
    {
     "data": {
      "text/html": [
       "<table>\n",
       "<thead><tr><th scope=col>prizes</th><th scope=col>probs</th></tr></thead>\n",
       "<tbody>\n",
       "\t<tr><td>8e+07       </td><td>2.702703e-08</td></tr>\n",
       "\t<tr><td>8e+06       </td><td>2.702703e-08</td></tr>\n",
       "\t<tr><td>1e+06       </td><td>2.162162e-07</td></tr>\n",
       "\t<tr><td>1e+05       </td><td>8.108108e-07</td></tr>\n",
       "\t<tr><td>1e+04       </td><td>2.702703e-06</td></tr>\n",
       "</tbody>\n",
       "</table>\n"
      ],
      "text/latex": [
       "\\begin{tabular}{r|ll}\n",
       " prizes & probs\\\\\n",
       "\\hline\n",
       "\t 8e+07        & 2.702703e-08\\\\\n",
       "\t 8e+06        & 2.702703e-08\\\\\n",
       "\t 1e+06        & 2.162162e-07\\\\\n",
       "\t 1e+05        & 8.108108e-07\\\\\n",
       "\t 1e+04        & 2.702703e-06\\\\\n",
       "\\end{tabular}\n"
      ],
      "text/markdown": [
       "\n",
       "| prizes | probs |\n",
       "|---|---|\n",
       "| 8e+07        | 2.702703e-08 |\n",
       "| 8e+06        | 2.702703e-08 |\n",
       "| 1e+06        | 2.162162e-07 |\n",
       "| 1e+05        | 8.108108e-07 |\n",
       "| 1e+04        | 2.702703e-06 |\n",
       "\n"
      ],
      "text/plain": [
       "  prizes probs       \n",
       "1 8e+07  2.702703e-08\n",
       "2 8e+06  2.702703e-08\n",
       "3 1e+06  2.162162e-07\n",
       "4 1e+05  8.108108e-07\n",
       "5 1e+04  2.702703e-06"
      ]
     },
     "metadata": {},
     "output_type": "display_data"
    }
   ],
   "source": [
    "lottery <- data.frame(prizes, probs)\n",
    "lottery"
   ]
  },
  {
   "cell_type": "markdown",
   "metadata": {},
   "source": [
    "4. Add a new column called **expected** to the **lottery** data frame."
   ]
  },
  {
   "cell_type": "code",
   "execution_count": 5,
   "metadata": {},
   "outputs": [
    {
     "data": {
      "text/html": [
       "<ol class=list-inline>\n",
       "\t<li>2.16216216216216</li>\n",
       "\t<li>0.216216216216216</li>\n",
       "\t<li>0.216216216216216</li>\n",
       "\t<li>0.0810810810810811</li>\n",
       "\t<li>0.027027027027027</li>\n",
       "</ol>\n"
      ],
      "text/latex": [
       "\\begin{enumerate*}\n",
       "\\item 2.16216216216216\n",
       "\\item 0.216216216216216\n",
       "\\item 0.216216216216216\n",
       "\\item 0.0810810810810811\n",
       "\\item 0.027027027027027\n",
       "\\end{enumerate*}\n"
      ],
      "text/markdown": [
       "1. 2.16216216216216\n",
       "2. 0.216216216216216\n",
       "3. 0.216216216216216\n",
       "4. 0.0810810810810811\n",
       "5. 0.027027027027027\n",
       "\n",
       "\n"
      ],
      "text/plain": [
       "[1] 2.16216216 0.21621622 0.21621622 0.08108108 0.02702703"
      ]
     },
     "metadata": {},
     "output_type": "display_data"
    }
   ],
   "source": [
    "lottery$expected <- lottery$prizes * lottery$probs\n",
    "lottery$expected"
   ]
  },
  {
   "cell_type": "markdown",
   "metadata": {},
   "source": [
    "5. Calculate your expected income from buying a ticket. Does it really worth it?"
   ]
  },
  {
   "cell_type": "code",
   "execution_count": 6,
   "metadata": {},
   "outputs": [
    {
     "data": {
      "text/html": [
       "2.7027027027027"
      ],
      "text/latex": [
       "2.7027027027027"
      ],
      "text/markdown": [
       "2.7027027027027"
      ],
      "text/plain": [
       "[1] 2.702703"
      ]
     },
     "metadata": {},
     "output_type": "display_data"
    }
   ],
   "source": [
    "sum(lottery$expected)"
   ]
  },
  {
   "cell_type": "code",
   "execution_count": null,
   "metadata": {},
   "outputs": [],
   "source": []
  }
 ],
 "metadata": {
  "kernelspec": {
   "display_name": "R",
   "language": "R",
   "name": "ir"
  },
  "language_info": {
   "codemirror_mode": "r",
   "file_extension": ".r",
   "mimetype": "text/x-r-source",
   "name": "R",
   "pygments_lexer": "r",
   "version": "3.6.1"
  }
 },
 "nbformat": 4,
 "nbformat_minor": 4
}
