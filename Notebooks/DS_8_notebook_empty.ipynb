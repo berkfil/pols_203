{
 "cells": [
  {
   "cell_type": "markdown",
   "metadata": {},
   "source": [
    "# POLS 203: Social Statistics\n",
    "## Eighth Discussion Session\n",
    "December 29, 2020"
   ]
  },
  {
   "cell_type": "markdown",
   "metadata": {},
   "source": [
    "## Barplots in ggplot2"
   ]
  },
  {
   "cell_type": "markdown",
   "metadata": {},
   "source": [
    "### Vertical"
   ]
  },
  {
   "cell_type": "markdown",
   "metadata": {},
   "source": [
    "In the Human Development Index District (HDI-D) 2018, all the districts of Istanbul, Ankara and Izmir provinces were included, in addition to the most populuous 150 districts of other provinces in Turkey. The dataset includes following indices:\n",
    "* gov_trans : Governance and Transparency Indicators\n",
    "* social_inclusion : Social Inclusion Indicator\n",
    "* economic_status : Economic Status Indicators\n",
    "* education : Education Indicators\n",
    "* health : Health Indicators\n",
    "* social_life : Social Life Indicators\n",
    "* munenvperf_trans : Municipality Environmental Performance and Transportation Index"
   ]
  },
  {
   "cell_type": "markdown",
   "metadata": {},
   "source": [
    "First, we need to load required libraries. Then, read the dataset."
   ]
  },
  {
   "cell_type": "code",
   "execution_count": null,
   "metadata": {},
   "outputs": [],
   "source": [
    "library(tidyverse) #you don't need this one\n",
    "library(ggplot2) #ggplot2 library\n",
    "library(ggthemes) #themes for ggplot2\n",
    "library(grid) # grid and gridExtra to draw gglot2 graphs together\n",
    "library(gridExtra)"
   ]
  },
  {
   "cell_type": "code",
   "execution_count": null,
   "metadata": {},
   "outputs": [],
   "source": [
    "setwd(\"C:/Users/musta/Desktop/datas\")\n",
    "dt <- read.csv(\"hdi_district.csv\", header = T, sep = \";\")\n",
    "head(dt)"
   ]
  },
  {
   "cell_type": "markdown",
   "metadata": {},
   "source": [
    "Do not change this code block, I will use tidyverse package but you do not need to use it to filter data."
   ]
  },
  {
   "cell_type": "code",
   "execution_count": null,
   "metadata": {},
   "outputs": [],
   "source": [
    "#Manipulating the data\n",
    "\n",
    "dist_filtered <- dt %>%\n",
    "  filter(province == \"İstanbul\")\n",
    "\n",
    "dt <- dt %>%\n",
    "  mutate(colgr = ifelse(province == \"İstanbul\", \"İstanbul\", \"Others\"))"
   ]
  },
  {
   "cell_type": "markdown",
   "metadata": {},
   "source": [
    "In ggplot2, you can save your plots. First, create a barplot for *hdi_d* values of the districts of Istanbul and save it to a variable called **hdi_v_1*."
   ]
  },
  {
   "cell_type": "code",
   "execution_count": null,
   "metadata": {},
   "outputs": [],
   "source": []
  },
  {
   "cell_type": "markdown",
   "metadata": {},
   "source": [
    "Well, it is painful to look at this graph. Let's reorder the districts an  save it to **hdi_v_2**."
   ]
  },
  {
   "cell_type": "code",
   "execution_count": null,
   "metadata": {},
   "outputs": [],
   "source": []
  },
  {
   "cell_type": "markdown",
   "metadata": {},
   "source": [
    "**NOT IMPORTANT BUT USEFUL**: Let's show them together:"
   ]
  },
  {
   "cell_type": "code",
   "execution_count": null,
   "metadata": {},
   "outputs": [],
   "source": [
    "grid.arrange(hdi_v_1, hdi_v_2, nrow=2)"
   ]
  },
  {
   "cell_type": "markdown",
   "metadata": {},
   "source": [
    "Graph still looks bad. Here, we will totally transform it step by step. First, we will change the colors of the graph from green to red. Then, create a legend for the graph with the mean, median, maximum, and minimum values for **hdi_d** variable. For this, we will use `scale_fil_gradient` function. Arguments of `scale_fill_gradient`:\n",
    "* low, high, mid: The colors of the gradient\n",
    "* breaks: The breaks that we will show in legend\n",
    "* labels: The labels of the breaks\n",
    "* limits: To which color max and min will be assigned"
   ]
  },
  {
   "cell_type": "markdown",
   "metadata": {},
   "source": [
    "We will need min, max, and median values of **hdi_d**."
   ]
  },
  {
   "cell_type": "code",
   "execution_count": null,
   "metadata": {},
   "outputs": [],
   "source": []
  },
  {
   "cell_type": "code",
   "execution_count": null,
   "metadata": {},
   "outputs": [],
   "source": []
  },
  {
   "cell_type": "markdown",
   "metadata": {},
   "source": [
    "Well, we should still fix the names of districts. We will do something cheeky: Put them into the bars."
   ]
  },
  {
   "cell_type": "code",
   "execution_count": null,
   "metadata": {},
   "outputs": [],
   "source": []
  },
  {
   "cell_type": "markdown",
   "metadata": {},
   "source": [
    "Then, add title, subtitle, a caption, and new names for X and Y axes."
   ]
  },
  {
   "cell_type": "code",
   "execution_count": null,
   "metadata": {},
   "outputs": [],
   "source": []
  },
  {
   "cell_type": "markdown",
   "metadata": {},
   "source": [
    "Finally, we can use `theme()`function to give final touches to our graph."
   ]
  },
  {
   "cell_type": "code",
   "execution_count": null,
   "metadata": {},
   "outputs": [],
   "source": []
  },
  {
   "cell_type": "markdown",
   "metadata": {},
   "source": [
    "Not necessary, but we can delete the whitespace between X-axis label and the plot."
   ]
  },
  {
   "cell_type": "code",
   "execution_count": null,
   "metadata": {},
   "outputs": [],
   "source": []
  },
  {
   "cell_type": "markdown",
   "metadata": {},
   "source": [
    "### Horizontal"
   ]
  },
  {
   "cell_type": "markdown",
   "metadata": {},
   "source": [
    "What if we wanted to show it horizontally? Below is the code for it."
   ]
  },
  {
   "cell_type": "code",
   "execution_count": null,
   "metadata": {},
   "outputs": [],
   "source": []
  },
  {
   "cell_type": "markdown",
   "metadata": {},
   "source": [
    "Notice the differences: In reordering in `aes(reorder())` function we did not use `-` sign. Also, we needed to change some parameters for X and Y axes. "
   ]
  },
  {
   "cell_type": "markdown",
   "metadata": {},
   "source": [
    "## Histograms"
   ]
  },
  {
   "cell_type": "markdown",
   "metadata": {},
   "source": [
    "Let's create a histogram of *all provinces'* values of **hdi_d** index. Set the bin width to 0.5 and save the graph to **hist_1**"
   ]
  },
  {
   "cell_type": "code",
   "execution_count": null,
   "metadata": {},
   "outputs": [],
   "source": []
  },
  {
   "cell_type": "markdown",
   "metadata": {},
   "source": [
    "Then, we can add some color to it. Save it to **hist_2**. Also, add the mean of **hdi_d** values with a vertical line."
   ]
  },
  {
   "cell_type": "code",
   "execution_count": null,
   "metadata": {},
   "outputs": [],
   "source": []
  },
  {
   "cell_type": "markdown",
   "metadata": {},
   "source": [
    "Let's try something unnecessary but different. Similar to **hist_2**, we will create colorful graph using another theme, `theme_economist()`. This is why we loaded `ggthemes` library. Save it to **hist_3**."
   ]
  },
  {
   "cell_type": "code",
   "execution_count": null,
   "metadata": {},
   "outputs": [],
   "source": []
  },
  {
   "cell_type": "markdown",
   "metadata": {},
   "source": [
    "## Scatter Plot"
   ]
  },
  {
   "cell_type": "markdown",
   "metadata": {},
   "source": [
    "Now, we will show the correlation between education and human development with a scatter diagram."
   ]
  },
  {
   "cell_type": "code",
   "execution_count": null,
   "metadata": {},
   "outputs": [],
   "source": []
  },
  {
   "cell_type": "markdown",
   "metadata": {},
   "source": [
    " Color the dots using **colgr** column."
   ]
  },
  {
   "cell_type": "code",
   "execution_count": null,
   "metadata": {},
   "outputs": [],
   "source": []
  },
  {
   "cell_type": "markdown",
   "metadata": {},
   "source": [
    "Now, we will show this correlation with linear regression. This is how we do it."
   ]
  },
  {
   "cell_type": "code",
   "execution_count": null,
   "metadata": {},
   "outputs": [],
   "source": []
  },
  {
   "cell_type": "markdown",
   "metadata": {},
   "source": [
    "Finally, add titles, labels, and make some changes aesthetically."
   ]
  },
  {
   "cell_type": "code",
   "execution_count": null,
   "metadata": {},
   "outputs": [],
   "source": []
  },
  {
   "cell_type": "markdown",
   "metadata": {},
   "source": [
    "Try some other themes."
   ]
  },
  {
   "cell_type": "code",
   "execution_count": null,
   "metadata": {},
   "outputs": [],
   "source": []
  }
 ],
 "metadata": {
  "kernelspec": {
   "display_name": "R",
   "language": "R",
   "name": "ir"
  },
  "language_info": {
   "codemirror_mode": "r",
   "file_extension": ".r",
   "mimetype": "text/x-r-source",
   "name": "R",
   "pygments_lexer": "r",
   "version": "3.6.1"
  }
 },
 "nbformat": 4,
 "nbformat_minor": 4
}
