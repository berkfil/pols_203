{
 "cells": [
  {
   "cell_type": "markdown",
   "metadata": {},
   "source": [
    "# POLS 203 Social Statistics Second Discussion Session\n",
    "November 11, 2020\n",
    "\n",
    "Berk Filcan"
   ]
  },
  {
   "cell_type": "code",
   "execution_count": 5,
   "metadata": {},
   "outputs": [],
   "source": [
    "options(jupyter.rich_display = F)"
   ]
  },
  {
   "cell_type": "markdown",
   "metadata": {},
   "source": [
    "# MATRICES"
   ]
  },
  {
   "cell_type": "markdown",
   "metadata": {},
   "source": [
    "## Development"
   ]
  },
  {
   "cell_type": "markdown",
   "metadata": {},
   "source": [
    "Today, we will first compare *Human Development Indices* and *Gross Domestic Products per capita (PPP adjusted, in US$)* of certain countries. Let's start with creating some vectors according to the table below."
   ]
  },
  {
   "cell_type": "markdown",
   "metadata": {},
   "source": [
    "| Countries | GDP per capita in US$| HDI |\n",
    "| :- | -: | -: |\n",
    "| Haiti | 1800 | 0.503|\n",
    "| USA | 59500 | 0.920|\n",
    "| Cuba | 11900 | 0.778|\n",
    "| China | 16600 | 0.758 |\n",
    "| Turkey | 26500 | 0.806|\n",
    "| Germany | 50200 | 0.939|"
   ]
  },
  {
   "cell_type": "markdown",
   "metadata": {},
   "source": [
    "First, we will create a vector named **countries**. You can use the list below:\n",
    "* (\"Haiti\", \"USA\", \"Cuba\", \"China\", \"Turkey\", \"Germany\")"
   ]
  },
  {
   "cell_type": "code",
   "execution_count": 1,
   "metadata": {},
   "outputs": [
    {
     "data": {
      "text/html": [
       "<ol class=list-inline>\n",
       "\t<li>'Haiti'</li>\n",
       "\t<li>'USA'</li>\n",
       "\t<li>'Cuba'</li>\n",
       "\t<li>'China'</li>\n",
       "\t<li>'Turkey'</li>\n",
       "\t<li>'Germany'</li>\n",
       "</ol>\n"
      ],
      "text/latex": [
       "\\begin{enumerate*}\n",
       "\\item 'Haiti'\n",
       "\\item 'USA'\n",
       "\\item 'Cuba'\n",
       "\\item 'China'\n",
       "\\item 'Turkey'\n",
       "\\item 'Germany'\n",
       "\\end{enumerate*}\n"
      ],
      "text/markdown": [
       "1. 'Haiti'\n",
       "2. 'USA'\n",
       "3. 'Cuba'\n",
       "4. 'China'\n",
       "5. 'Turkey'\n",
       "6. 'Germany'\n",
       "\n",
       "\n"
      ],
      "text/plain": [
       "[1] \"Haiti\"   \"USA\"     \"Cuba\"    \"China\"   \"Turkey\"  \"Germany\""
      ]
     },
     "metadata": {},
     "output_type": "display_data"
    }
   ],
   "source": [
    "countries <- c(\"Haiti\", \"USA\", \"Cuba\", \"China\", \"Turkey\", \"Germany\")\n",
    "countries"
   ]
  },
  {
   "cell_type": "markdown",
   "metadata": {},
   "source": [
    "Then, two other vectors for GDP  per capita and HDI. Name them **gdp_per_cap** and **hdi** respectively. You can use the lists below.\n",
    "\n",
    "* (1800, 59500, 11900, 16600, 26500, 50200)\n",
    "* (0.503, 0.920, 0.778, 0.758, 0.806, 0.939)"
   ]
  },
  {
   "cell_type": "code",
   "execution_count": 2,
   "metadata": {},
   "outputs": [
    {
     "data": {
      "text/html": [
       "<ol class=list-inline>\n",
       "\t<li>1800</li>\n",
       "\t<li>59500</li>\n",
       "\t<li>11900</li>\n",
       "\t<li>16600</li>\n",
       "\t<li>26500</li>\n",
       "\t<li>50200</li>\n",
       "</ol>\n"
      ],
      "text/latex": [
       "\\begin{enumerate*}\n",
       "\\item 1800\n",
       "\\item 59500\n",
       "\\item 11900\n",
       "\\item 16600\n",
       "\\item 26500\n",
       "\\item 50200\n",
       "\\end{enumerate*}\n"
      ],
      "text/markdown": [
       "1. 1800\n",
       "2. 59500\n",
       "3. 11900\n",
       "4. 16600\n",
       "5. 26500\n",
       "6. 50200\n",
       "\n",
       "\n"
      ],
      "text/plain": [
       "[1]  1800 59500 11900 16600 26500 50200"
      ]
     },
     "metadata": {},
     "output_type": "display_data"
    },
    {
     "data": {
      "text/html": [
       "<ol class=list-inline>\n",
       "\t<li>0.503</li>\n",
       "\t<li>0.92</li>\n",
       "\t<li>0.778</li>\n",
       "\t<li>0.758</li>\n",
       "\t<li>0.806</li>\n",
       "\t<li>0.939</li>\n",
       "</ol>\n"
      ],
      "text/latex": [
       "\\begin{enumerate*}\n",
       "\\item 0.503\n",
       "\\item 0.92\n",
       "\\item 0.778\n",
       "\\item 0.758\n",
       "\\item 0.806\n",
       "\\item 0.939\n",
       "\\end{enumerate*}\n"
      ],
      "text/markdown": [
       "1. 0.503\n",
       "2. 0.92\n",
       "3. 0.778\n",
       "4. 0.758\n",
       "5. 0.806\n",
       "6. 0.939\n",
       "\n",
       "\n"
      ],
      "text/plain": [
       "[1] 0.503 0.920 0.778 0.758 0.806 0.939"
      ]
     },
     "metadata": {},
     "output_type": "display_data"
    }
   ],
   "source": [
    "gdp_per_cap <- c(1800, 59500, 11900, 16600, 26500, 50200)\n",
    "hdi <- c(0.503, 0.920, 0.778, 0.758, 0.806, 0.939)\n",
    "gdp_per_cap\n",
    "hdi"
   ]
  },
  {
   "cell_type": "markdown",
   "metadata": {},
   "source": [
    "Finally, we can create our matrix. Use `cbind()`function to create a matrix named **country_stats**."
   ]
  },
  {
   "cell_type": "code",
   "execution_count": 6,
   "metadata": {},
   "outputs": [
    {
     "data": {
      "text/plain": [
       "     gdp_per_cap hdi  \n",
       "[1,]  1800       0.503\n",
       "[2,] 59500       0.920\n",
       "[3,] 11900       0.778\n",
       "[4,] 16600       0.758\n",
       "[5,] 26500       0.806\n",
       "[6,] 50200       0.939"
      ]
     },
     "metadata": {},
     "output_type": "display_data"
    }
   ],
   "source": [
    "country_stats <- cbind(gdp_per_cap, hdi)\n",
    "country_stats"
   ]
  },
  {
   "cell_type": "markdown",
   "metadata": {},
   "source": [
    "Now, we can name the row of our matrix with their respective countries. Use `rownames()`function to assign **countries** vector as names. To spice up things, we can name the columns. Name them \"GDP per capita\" and \"HDI\". "
   ]
  },
  {
   "cell_type": "code",
   "execution_count": 9,
   "metadata": {},
   "outputs": [
    {
     "data": {
      "text/plain": [
       "        gdp_per_cap hdi  \n",
       "Haiti    1800       0.503\n",
       "USA     59500       0.920\n",
       "Cuba    11900       0.778\n",
       "China   16600       0.758\n",
       "Turkey  26500       0.806\n",
       "Germany 50200       0.939"
      ]
     },
     "metadata": {},
     "output_type": "display_data"
    },
    {
     "data": {
      "text/plain": [
       "        GDP per capita HDI  \n",
       "Haiti    1800          0.503\n",
       "USA     59500          0.920\n",
       "Cuba    11900          0.778\n",
       "China   16600          0.758\n",
       "Turkey  26500          0.806\n",
       "Germany 50200          0.939"
      ]
     },
     "metadata": {},
     "output_type": "display_data"
    }
   ],
   "source": [
    "rownames(country_stats) <- countries\n",
    "country_stats\n",
    "colnames(country_stats) <-  c(\"GDP per capita\", \"HDI\")\n",
    "country_stats"
   ]
  },
  {
   "cell_type": "markdown",
   "metadata": {},
   "source": [
    "You want to see Haiti's stats. This is how we do it:"
   ]
  },
  {
   "cell_type": "code",
   "execution_count": 12,
   "metadata": {},
   "outputs": [
    {
     "data": {
      "text/plain": [
       "GDP per capita            HDI \n",
       "      1800.000          0.503 "
      ]
     },
     "metadata": {},
     "output_type": "display_data"
    }
   ],
   "source": [
    "country_stats[\"Haiti\", ]"
   ]
  },
  {
   "cell_type": "markdown",
   "metadata": {},
   "source": [
    "Or you might want to see HDI scores."
   ]
  },
  {
   "cell_type": "code",
   "execution_count": 15,
   "metadata": {},
   "outputs": [
    {
     "data": {
      "text/plain": [
       "  Haiti     USA    Cuba   China  Turkey Germany \n",
       "  0.503   0.920   0.778   0.758   0.806   0.939 "
      ]
     },
     "metadata": {},
     "output_type": "display_data"
    }
   ],
   "source": [
    "country_stats[,\"HDI\"]\n"
   ]
  },
  {
   "cell_type": "markdown",
   "metadata": {},
   "source": [
    "What if we want to sort them? Here, `order()` function will come handy. Let's see how it works:"
   ]
  },
  {
   "cell_type": "code",
   "execution_count": 18,
   "metadata": {},
   "outputs": [
    {
     "data": {
      "text/plain": [
       "[1] 34 12  2 50  3"
      ]
     },
     "metadata": {},
     "output_type": "display_data"
    },
    {
     "data": {
      "text/plain": [
       "[1] 4 1 2 5 3"
      ]
     },
     "metadata": {},
     "output_type": "display_data"
    },
    {
     "data": {
      "text/plain": [
       "[1] 3 5 2 1 4"
      ]
     },
     "metadata": {},
     "output_type": "display_data"
    }
   ],
   "source": [
    "example_nums <- c(34, 12, 2, 50, 3)\n",
    "example_nums\n",
    "order(example_nums, decreasing = T)\n",
    "order(example_nums, decreasing = F)"
   ]
  },
  {
   "cell_type": "markdown",
   "metadata": {},
   "source": [
    "Also, check out `sort()` and `rank()`functions."
   ]
  },
  {
   "cell_type": "code",
   "execution_count": 37,
   "metadata": {},
   "outputs": [
    {
     "data": {
      "text/plain": [
       "[1] 50 34 12  3  2"
      ]
     },
     "metadata": {},
     "output_type": "display_data"
    },
    {
     "data": {
      "text/plain": [
       "[1] 4 3 1 5 2"
      ]
     },
     "metadata": {},
     "output_type": "display_data"
    },
    {
     "data": {
      "text/plain": [
       "[1] 34 12  2 50  3"
      ]
     },
     "metadata": {},
     "output_type": "display_data"
    }
   ],
   "source": [
    "sort(example_nums, decreasing =T)\n",
    "rank(example_nums)\n",
    "example_nums"
   ]
  },
  {
   "cell_type": "markdown",
   "metadata": {},
   "source": [
    "Let's do this for GDP per capita in **country_stats** matrix."
   ]
  },
  {
   "cell_type": "code",
   "execution_count": 39,
   "metadata": {},
   "outputs": [
    {
     "data": {
      "text/plain": [
       "[1] 1 3 4 5 6 2"
      ]
     },
     "metadata": {},
     "output_type": "display_data"
    },
    {
     "data": {
      "text/plain": [
       "        GDP per capita HDI  \n",
       "Haiti    1800          0.503\n",
       "USA     59500          0.920\n",
       "Cuba    11900          0.778\n",
       "China   16600          0.758\n",
       "Turkey  26500          0.806\n",
       "Germany 50200          0.939"
      ]
     },
     "metadata": {},
     "output_type": "display_data"
    }
   ],
   "source": [
    "gdp_ranker <- order(country_stats[ ,\"GDP per capita\"])\n",
    "country_stats[gdp_ranker,]\n",
    "gdp_ranker"
   ]
  },
  {
   "cell_type": "markdown",
   "metadata": {},
   "source": [
    "Let's say we want to see the countries that are poor but perform well in HDI score. Thresholds are 15000 for GDP per capita and 0.750 for HDI."
   ]
  },
  {
   "cell_type": "code",
   "execution_count": 29,
   "metadata": {},
   "outputs": [
    {
     "data": {
      "text/plain": [
       "  Haiti     USA    Cuba   China  Turkey Germany \n",
       "  FALSE   FALSE    TRUE   FALSE   FALSE   FALSE "
      ]
     },
     "metadata": {},
     "output_type": "display_data"
    },
    {
     "data": {
      "text/plain": [
       "GDP per capita            HDI \n",
       "      1.19e+04       7.78e-01 "
      ]
     },
     "metadata": {},
     "output_type": "display_data"
    }
   ],
   "source": [
    "poor_but_prideful <- country_stats[,1] < 15000 & country_stats[,2] > 0.750\n",
    "poor_but_prideful\n",
    "country_stats[poor_but_prideful, ]"
   ]
  },
  {
   "cell_type": "code",
   "execution_count": 35,
   "metadata": {},
   "outputs": [
    {
     "data": {
      "text/plain": [
       " [1] 0 0 0 0 0 0 0 0 0 0 0 0 0 0 0 0 0 0 0 0 0 0 0 0 0 0 0 0 0 0 0 0 0 0 0 0 0 0\n",
       "[39] 0 0 0 0 0 0 0 0 0 0 0 0 0 0 0 0 0 0 0 0 0 0 0 0 0 0"
      ]
     },
     "metadata": {},
     "output_type": "display_data"
    },
    {
     "data": {
      "text/plain": [
       " [1]  1  2  3  4  5  6  7  8  9 10 11 12 13 14 15 16 17 18 19 20 21 22 23 24 25\n",
       "[26] 26 27 28 29 30 31 32  0  0  0  0  0  0  0  0  0  0  0  0  0  0  0  0  0  0\n",
       "[51]  0  0  0  0  0  0  0  0  0  0  0  0  0  0"
      ]
     },
     "metadata": {},
     "output_type": "display_data"
    },
    {
     "data": {
      "text/plain": [
       " [1]  6 18 31  0  0 10  0 17  9 20  5 30  0 16 12  0 19  0 23 24  0  0 27 11  0\n",
       "[26]  0  0  0  0 28  0 21  1  0  8 29 15 26  0  0  7  0  0  0 22  3 13  0  0  0\n",
       "[51]  0  0 32  0 14  0  4  0  0  0  0 25  2  0"
      ]
     },
     "metadata": {},
     "output_type": "display_data"
    },
    {
     "data": {
      "text/plain": [
       "     [,1] [,2] [,3] [,4] [,5] [,6] [,7] [,8]\n",
       "[1,]  6    9   19    0    1    7    0    4  \n",
       "[2,] 18   20    0    0    0    0    0    0  \n",
       "[3,] 31    5   23    0    8    0    0    0  \n",
       "[4,]  0   30   24    0   29    0    0    0  \n",
       "[5,]  0    0    0    0   15   22   32    0  \n",
       "[6,] 10   16    0   28   26    3    0   25  \n",
       "[7,]  0   12   27    0    0   13   14    2  \n",
       "[8,] 17    0   11   21    0    0    0    0  "
      ]
     },
     "metadata": {},
     "output_type": "display_data"
    },
    {
     "data": {
      "text/plain": [
       "     [,1] [,2] [,3] [,4] [,5] [,6] [,7] [,8]\n",
       "[1,] NA   NA   NA   NA   NA   NA   NA   NA  \n",
       "[2,] NA   NA   NA   NA   NA   NA   NA   NA  \n",
       "[3,] NA   NA   NA   NA   NA   NA   NA   NA  \n",
       "[4,] NA   NA   NA   NA   NA   NA   NA   NA  \n",
       "[5,] NA   NA   NA   NA   NA   NA   NA   NA  \n",
       "[6,] NA   NA   NA   NA   NA   NA   NA   NA  \n",
       "[7,] NA   NA   NA   NA   NA   NA   NA   NA  \n",
       "[8,] NA   NA   NA   NA   NA   NA   NA   NA  "
      ]
     },
     "metadata": {},
     "output_type": "display_data"
    }
   ],
   "source": [
    "chess_board_base <- integer(64)\n",
    "chess_board_base\n",
    "chess_board_base[1:32] <- 1:32\n",
    "chess_board_base\n",
    "\n",
    "chess_board <- sample(chess_board_base, 64)\n",
    "chess_board\n",
    "\n",
    "chess <- matrix(chess_board, nrow = 8)\n",
    "chess\n",
    "\n",
    "empty_matrix <- matrix(nrow = 8, ncol = 8)\n",
    "empty_matrix"
   ]
  },
  {
   "cell_type": "markdown",
   "metadata": {},
   "source": [
    "# FUNCTIONS"
   ]
  },
  {
   "cell_type": "markdown",
   "metadata": {},
   "source": [
    "## Standard Deviation"
   ]
  },
  {
   "cell_type": "markdown",
   "metadata": {},
   "source": [
    "R has a built in standard deviation function, it is `sd()`. But what if we want to create it again on our out of pure boredom? This is the formula for standard deviation:\n",
    "\n",
    "$s=\\sqrt{\\frac{1}{N-1}\\sum_{i=1}^N(x_i-\\bar{x})^2}$"
   ]
  },
  {
   "cell_type": "markdown",
   "metadata": {},
   "source": [
    "Let's create some numbers first.`rnorm()` function generates some random numbers with normal distribution. Also, do not forget to use `set.seed()`function to create \"pseudo-randomness\". Name the vector as **standard_nums**."
   ]
  },
  {
   "cell_type": "code",
   "execution_count": 48,
   "metadata": {},
   "outputs": [
    {
     "data": {
      "image/png": "[encoded data removed]",
      "text/plain": [
       "Plot with title \"Histogram of standard_nums\""
      ]
     },
     "metadata": {},
     "output_type": "display_data"
    }
   ],
   "source": [
    "set.seed(5)\n",
    "standard_nums <- rnorm(200, mean = 20, sd =2)\n",
    "#standard_nums\n",
    "hist(standard_nums)"
   ]
  },
  {
   "cell_type": "markdown",
   "metadata": {},
   "source": [
    "Finally, let's create our function named **std_dev**. It takes one argument named *numbers*. "
   ]
  },
  {
   "cell_type": "code",
   "execution_count": 51,
   "metadata": {},
   "outputs": [],
   "source": [
    "std_dev <- function(numbers){\n",
    "    length_numbers <- length(numbers)\n",
    "    mean_numbers <- mean(numbers)\n",
    "    standard_dev <- sqrt(sum((numbers - mean_numbers)^2/ (length_numbers -1))) \n",
    "    return(standard_dev)\n",
    "}"
   ]
  },
  {
   "cell_type": "code",
   "execution_count": 52,
   "metadata": {},
   "outputs": [
    {
     "data": {
      "text/plain": [
       "[1] 1.989071"
      ]
     },
     "metadata": {},
     "output_type": "display_data"
    },
    {
     "data": {
      "text/plain": [
       "[1] 1.989071"
      ]
     },
     "metadata": {},
     "output_type": "display_data"
    }
   ],
   "source": [
    "std_dev(standard_nums)\n",
    "sd(standard_nums)"
   ]
  },
  {
   "cell_type": "code",
   "execution_count": 49,
   "metadata": {},
   "outputs": [],
   "source": [
    "hypo <- function(x,y){\n",
    "    c_2 <- x^2 + y^2\n",
    "    c <-  sqrt(c_2)\n",
    "    return(c)\n",
    "}"
   ]
  },
  {
   "cell_type": "code",
   "execution_count": 55,
   "metadata": {},
   "outputs": [
    {
     "data": {
      "text/plain": [
       "[1] 5"
      ]
     },
     "metadata": {},
     "output_type": "display_data"
    },
    {
     "data": {
      "text/plain": [
       "[1] 3.141593"
      ]
     },
     "metadata": {},
     "output_type": "display_data"
    }
   ],
   "source": [
    "hypo(3,4)"
   ]
  },
  {
   "cell_type": "code",
   "execution_count": 63,
   "metadata": {},
   "outputs": [
    {
     "data": {
      "text/plain": [
       "[1] 12"
      ]
     },
     "metadata": {},
     "output_type": "display_data"
    },
    {
     "data": {
      "text/plain": [
       "[1] 12.56"
      ]
     },
     "metadata": {},
     "output_type": "display_data"
    }
   ],
   "source": [
    "round_size <- function(r, p = 3){\n",
    "    size <- r^2 * p\n",
    "    return(size)\n",
    "}\n",
    "round_size(2)\n",
    "round_size(r = 2, p=3.14)"
   ]
  },
  {
   "cell_type": "code",
   "execution_count": 62,
   "metadata": {},
   "outputs": [
    {
     "data": {
      "text/plain": [
       "[1] 3"
      ]
     },
     "metadata": {},
     "output_type": "display_data"
    },
    {
     "data": {
      "text/plain": [
       "[1] 4"
      ]
     },
     "metadata": {},
     "output_type": "display_data"
    }
   ],
   "source": [
    "abc <- 3\n",
    "def = 4\n",
    "abc\n",
    "def"
   ]
  },
  {
   "cell_type": "code",
   "execution_count": null,
   "metadata": {},
   "outputs": [],
   "source": []
  }
 ],
 "metadata": {
  "kernelspec": {
   "display_name": "R",
   "language": "R",
   "name": "ir"
  },
  "language_info": {
   "codemirror_mode": "r",
   "file_extension": ".r",
   "mimetype": "text/x-r-source",
   "name": "R",
   "pygments_lexer": "r",
   "version": "3.6.1"
  }
 },
 "nbformat": 4,
 "nbformat_minor": 4
}
